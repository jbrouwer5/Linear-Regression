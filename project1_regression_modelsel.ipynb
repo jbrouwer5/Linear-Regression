{
  "cells": [
    {
      "attachments": {},
      "cell_type": "markdown",
      "id": "eDY78I8-wXdy",
      "metadata": {
        "id": "eDY78I8-wXdy"
      },
      "source": [
        "# Project 1: Regression and Model Selection\n",
        "\n",
        "In this project, you will construct a linear regression model, and apply it to a synthetic task as well as a real-world house value prediction task.\n",
        "\n",
        "## Objectives\n",
        "Your goal in this project is to get comfortable in implementing a complete supervised learning pipeline (in Python). To complete this project, you should understand the following:\n",
        "\n",
        "* How to use basic math and machine learning modules in python such as numpy, matplotlib, and sklearn (*_You are encouraged to use numpy to vectorize array operations [see link](https://numpy.org/doc/stable//user/absolute_beginners.html#basic-array-operations)_*)\n",
        "* How to train a regression model *from scratch*\n",
        "* How to implement the *gradient descent* algorithm for iterative model update\n",
        "* How to perform model section when facing multiple choices\n",
        "* How to evaluate the test results and visualize the outcome of an ML model"
      ]
    },
    {
      "attachments": {},
      "cell_type": "markdown",
      "id": "a0af1538",
      "metadata": {},
      "source": [
        "## Deliverable\n",
        "* Project report/writeup: A `project1_report_lastname.pdf` file with corresponding plots and results for the project. Follow the `Project 1 - Report (Individual Submission)` link on Gradescope to upload this file. The project report should include a brief justification of your solution at a high-level, e.g., using any relevant explanations, equations, or pictures that help to explain your solution. You should also describe what your code does, e.g. using a couple of sentences per function to describe your code structure. \n",
        "\n",
        "* Source code: A `project1_src_lastname1[_lastname2].ipynb` (or `.zip`) file with a working copy of your solutions compiled in a Jupyter notebook. Follow the `Project 1 - Source Code (Group Submission)` link to upload this file.\n",
        "\n",
        "\n",
        "## Logistics\n",
        "\n",
        "* You can work in groups of 1-2 students for each course project, and it's your responsibility to find a group (e.g. use Ed Discussion). \n",
        "* Every member of a group must complete and submit the project report/writeup individually. While the source code can be the same for all group members, the project report needs to be written independently by each person and, thus, should differ among team member and students more generally.\n",
        "* One one group member need to submit the source code. If you submit as a group, make sure to include your teammate in the group submission. Instructions for team submission can be found [here](https://help.gradescope.com/article/m5qz2xsnjy-student-add-group-members).\n",
        "* Grades will be provided based on the individual project report. The source code submission will not be graded, but the teaching staff may check the source files if they see the need for reproducing your results when going through your project report. \n",
        "* Failure to submit the source code will lead to a deduction of points from your total.\n"
      ]
    },
    {
      "cell_type": "markdown",
      "id": "d-5QFRQs8KMZ",
      "metadata": {
        "id": "d-5QFRQs8KMZ"
      },
      "source": [
        "## Task 1A: (Warmup) Linear Regression on Synthetic Dataset, *from Scratch*\n",
        "\n",
        "### Loading math, machine learning, and visualization modules\n",
        "We start importing some modules and running some magic commands"
      ]
    },
    {
      "cell_type": "code",
      "execution_count": 441,
      "id": "KSOkRgRg8vIe",
      "metadata": {
        "id": "KSOkRgRg8vIe"
      },
      "outputs": [],
      "source": [
        "%matplotlib inline\n",
        "\n",
        "# General math and plotting modules.\n",
        "import numpy as np\n",
        "import matplotlib.pyplot as plt\n",
        "from matplotlib.colors import ListedColormap\n",
        "\n",
        "# Machine Learning library. \n",
        "from sklearn.model_selection import train_test_split\n",
        "from sklearn.preprocessing import StandardScaler"
      ]
    },
    {
      "cell_type": "markdown",
      "id": "_zC9jNFb_mVJ",
      "metadata": {
        "id": "_zC9jNFb_mVJ"
      },
      "source": [
        "### Utility/helper functions for generating synthetic dataset, plots, etc.\n",
        "\n",
        "Below are a few utility functions for generating plots (you don't have to modify these functions)."
      ]
    },
    {
      "cell_type": "code",
      "execution_count": 442,
      "id": "9BrgqQPf_ll-",
      "metadata": {
        "id": "9BrgqQPf_ll-"
      },
      "outputs": [],
      "source": [
        "def generate_polynomial_data(num_points, noise, w):\n",
        "    dim = w.size - 1\n",
        "    # Generate feature vector \n",
        "    \n",
        "    # We often use np.random.seed for repeatability; \n",
        "    # remove it if you want to inject randomness into your results \n",
        "    np.random.seed(42)\n",
        "\n",
        "    x = np.random.normal(size=(num_points, 1))\n",
        "    x1 = np.power(x, 0)\n",
        "    for d in range(dim):\n",
        "        x1 = np.concatenate((np.power(x, 1 + d), x1), axis=1)  # X = [x, 1].\n",
        "    y = np.dot(x1, w) + np.random.normal(size=(num_points,)) * noise  # y = Xw + eps\n",
        "\n",
        "    return x1, y\n",
        "\n",
        "def plot_data(X, Y, fig=None, options=dict()):\n",
        "    if fig is None:\n",
        "        fig = plt.subplot(111)\n",
        "    fig.plot(X, Y, options.get('marker', 'b*'), \n",
        "        label=options.get('label', 'Raw data'),\n",
        "        fillstyle=options.get('fillstyle', 'full'),\n",
        "        ms=options.get('size', 8))\n",
        "    process_plot(fig, options)\n",
        "\n",
        "def plot_fit(X, w, fig=None, options=dict()):\n",
        "    if fig is None:\n",
        "        fig = plt.subplot(111)\n",
        "\n",
        "    x_min = np.min(X[:, -2])\n",
        "    x_max = np.max(X[:, -2])\n",
        "    dim = w.size - 1\n",
        "    x_plot = np.reshape(np.linspace(x_min, x_max, 100), [-1, 1])\n",
        "    x1_plot = np.ones_like(x_plot)\n",
        "    for d in range(dim):\n",
        "        x1_plot = np.concatenate((np.power(x_plot, 1 + d), x1_plot), axis=1)\n",
        "\n",
        "    y_plot = np.dot(x1_plot, w)\n",
        "    fig.plot(x_plot, y_plot, 'r-', label=options.get('label', 'Regression fit'))\n",
        "    process_plot(fig, options)\n",
        "\n",
        "def process_plot(fig, options=dict()):\n",
        "    if 'x_label' in options.keys():\n",
        "        fig.set_xlabel(options['x_label'])\n",
        "    if 'y_label' in options.keys():\n",
        "        fig.set_ylabel(options['y_label'])\n",
        "    if 'x_lim' in options.keys():\n",
        "        fig.set_ylim(options['x_lim'])\n",
        "    if 'y_lim' in options.keys():\n",
        "        fig.set_ylim(options['y_lim'])\n",
        "    if 'title' in options.keys():\n",
        "        fig.set_title(options['title'])\n",
        "    if 'legend' in options.keys():\n",
        "        if options['legend']:\n",
        "            fig.legend(loc=options.get('legend_loc', 'best'))"
      ]
    },
    {
      "cell_type": "markdown",
      "id": "sMqfxOF-90Wn",
      "metadata": {
        "id": "sMqfxOF-90Wn"
      },
      "source": [
        "### Data loader\n",
        "\n",
        "Loading and processing dataset (you don't have to modify these functions)."
      ]
    },
    {
      "cell_type": "code",
      "execution_count": 443,
      "id": "nbckc1W4-bGt",
      "metadata": {
        "id": "nbckc1W4-bGt"
      },
      "outputs": [
        {
          "data": {
            "image/png": "[encoded data removed]",
            "text/plain": [
              "<Figure size 432x288 with 1 Axes>"
            ]
          },
          "metadata": {
            "needs_background": "light"
          },
          "output_type": "display_data"
        }
      ],
      "source": [
        "# Generate the data.\n",
        "num_points = 100  # Number of training points.\n",
        "noise = 0.6  # Noise Level (needed for data generation).\n",
        "\n",
        "w_true = np.array([2, 0.6]) # groundtruth function parameter\n",
        "\n",
        "X, y = generate_polynomial_data(num_points, noise, w_true) # y = X w_true + noise\n",
        "\n",
        "X_train, X_test, y_train, y_test = \\\n",
        "    train_test_split(X, y, test_size=.4, random_state=42)\n",
        "\n",
        "# Plot Data\n",
        "fig = plt.subplot(111);\n",
        "plot_opts = {'x_label': '$x$', 'y_label': '$y$', 'title': 'Generated Data', 'y_lim': [np.min(y)-0.5, np.max(y)+0.5]}\n",
        "plot_data(X[:, 0], y, fig=fig, options=plot_opts)"
      ]
    },
    {
      "cell_type": "markdown",
      "id": "QadXjQtrBHXR",
      "metadata": {
        "id": "QadXjQtrBHXR"
      },
      "source": [
        "### Modeling (30pt)\n",
        "\n",
        "In the following, you will write you own loss function for this linear regression task. This could be later used for the regression applications in Task 1B.\n",
        "\n",
        "\n",
        "### The key ingredient of modeling: risk (i.e. expected loss) function and its gradient\n",
        "\n",
        "We will start by fitting by linear regression a set of data points of the type $D = \\left\\{(\\mathbf{x}, y)_i\\right\\}$, $i \\in \\{1, 2, \\ldots, n\\}$.\n",
        "\n",
        "The objective of linear regression, is to find coefficents $\\hat{w}$ such that the residual between $\\hat{y} = \\hat{\\mathbf{w}}^\\top \\tilde{\\mathbf{x}}$, and $y$ is small. (Remember that $\\tilde{\\mathbf{x}} = [\\mathbf{x}, 1]$). From now on, $\\mathbf{x}$ will be considered the extended version unless stated otherwise, hence dropping the tilde notation. \n",
        "\n",
        "We consider the ridge regression risk function, defined as \n",
        "$$ R({\\mathbf{w}}) = \\mathbb{E}[(y-{\\mathbf{w}}^\\top x)^2)] +  \\lambda \\mathbf{w}^\\top \\mathbf{w}$$\n",
        "\n",
        "where the expectation is taken over the data generating the distribution of points. As the whole data generating distribution is not known, the expectation is approximated by samples from the **training** set. \n",
        "\n",
        "The risk is approximated by the *empirical risk* as:\n",
        "\n",
        "\n",
        "$$\\hat{R}_{\\text{ridge}}(\\mathbf{w}) = \\frac{1}{n} \\sum_{i=1}^n \\left(y_i - \\mathbf{w}^\\top \\mathbf{x}_i\\right)^2 + \\lambda \\mathbf{w}^\\top \\mathbf{w}$$\n",
        "\n",
        "In the following, construct a customized funciton which returns the empirical risk and its gradient at parameter $\\theta$:"
      ]
    },
    {
      "cell_type": "code",
      "execution_count": 444,
      "id": "W7gfoERbCtRE",
      "metadata": {
        "id": "W7gfoERbCtRE"
      },
      "outputs": [
        {
          "name": "stdout",
          "output_type": "stream",
          "text": [
            "Loss at initial theta (zeros): [3.47407884]\n",
            "\n",
            " [[-3.04146267]\n",
            " [-0.81137943]]\n"
          ]
        }
      ],
      "source": [
        "# Constructing the empirical risk function for ridge regression.\n",
        "def lossFunction(theta, X, y ,Lambda):\n",
        "    \"\"\"\n",
        "    Take in numpy array of theta, X, and y to return the regularize loss function and gradient\n",
        "    of a logistic regression\n",
        "    \"\"\"\n",
        "    # initialize regularized average loss (empirical risk) and its gradient\n",
        "    regLoss = 0\n",
        "    grad = np.zeros(theta.shape)\n",
        "    # add your code to compute the ridge regression risk function and its gradient \n",
        "    for i in range(X.shape[0]):\n",
        "        # regLoss += np.linalg.inv((X.T@X + Lambda * np.identity(X.shape[1]))) @ X.T @ y\n",
        "        regLoss += (y[i]-(theta.T @ X[i]))**2\n",
        "        gradient = ((y[i]-(theta.T @ X[i])) * X[i])\n",
        "        for j in range(gradient.shape[0]):\n",
        "            grad[j][0] += gradient[j]\n",
        "    regLoss /= X.shape[0]\n",
        "    # np.sum(theta ** 2)\n",
        "    regLoss += Lambda * (theta[0].T @ theta[0])\n",
        "    # gradient = (2/n_samples) * X.T.dot(error) + 2 * lambda_reg * weights\n",
        "\n",
        "    grad *= (-2/X.shape[0]) \n",
        "    grad += 2*Lambda*theta\n",
        "    return regLoss, grad\n",
        "\n",
        "# Initialize fitting parameters\n",
        "initial_theta = np.zeros((X.shape[1], 1))\n",
        "\n",
        "# Set regularization parameter lambda\n",
        "Lambda = 0.1\n",
        "\n",
        "#Compute and display initial loss and gradient for regularized logistic regression\n",
        "emp_risk, grad=lossFunction(initial_theta, X, y, Lambda)\n",
        "print(\"Loss at initial theta (zeros):\",emp_risk)\n",
        "print(\"\\n\",grad)"
      ]
    },
    {
      "cell_type": "markdown",
      "id": "MxRzx3IrVrJ4",
      "metadata": {
        "id": "MxRzx3IrVrJ4"
      },
      "source": [
        "### Training your ridge regressor: Gradient descent (15pt)\n",
        "\n",
        "There are many algorithmic tools for training your classifier. Here, we use the popular gradient descent algorithm:\n",
        "\n",
        "The parameters $\\hat{\\mathbf{w}}$ can be updated via a gradient descent rule: \n",
        "\n",
        "$$ \\hat{\\mathbf{w}}_{k+1} \\gets \\hat{\\mathbf{w}}_k - \\eta_k \\left.\\frac{\\partial \\hat{R}}{\\partial \\mathbf{w}} \\right|_{\\mathbf{w}=\\mathbf{w}_k},$$\n",
        "\n",
        "where $\\eta_k$ is a parameter of the algorithm, $k$ is the iteration index, and $\\frac{\\partial \\hat{R}}{\\partial \\mathbf{w}}$ is the gradient of the empirical risk function w.r.t. $\\mathbf{w}$.\n",
        "\n",
        "In the *vanilla* gradient descent method, $\\eta(k)=\\eta_0$ is a constant. However other algorithms exists that modify this.\n",
        "\n",
        "The computational complexity of Gradient descent is $O(n_{\\text{iter}} \\cdot  n d)$. \n"
      ]
    },
    {
      "cell_type": "markdown",
      "id": "NrsxE-mPXUvB",
      "metadata": {
        "id": "NrsxE-mPXUvB"
      },
      "source": [
        "Write a customized function `gradientDescent(X,y,theta,eta,Lambda,tolerance)`\n",
        " which returns an array of empirical risk values, one for each iteration, as well as the final output of the model parameter. \n",
        " \n",
        " Here, `tollerance` specifies the stopping condition: The gradient descent algorithm terminates the observed loss values converges (i.e. two consective losses differ by at most `tollerance`). Hint: the loss should be descending in the loss plot."
      ]
    },
    {
      "cell_type": "code",
      "execution_count": 445,
      "id": "R1OdRyuoWgZg",
      "metadata": {
        "id": "R1OdRyuoWgZg"
      },
      "outputs": [
        {
          "name": "stdout",
          "output_type": "stream",
          "text": [
            "395\n",
            "The regularized theta using ridge regression:\n",
            " [[1.7364583]\n",
            " [0.5770478]]\n"
          ]
        },
        {
          "data": {
            "text/plain": [
              "Text(0.5, 1.0, 'Loss function using Gradient Descent')"
            ]
          },
          "execution_count": 445,
          "metadata": {},
          "output_type": "execute_result"
        },
        {
          "data": {
            "image/png": "[encoded data removed]",
            "text/plain": [
              "<Figure size 432x288 with 1 Axes>"
            ]
          },
          "metadata": {
            "needs_background": "light"
          },
          "output_type": "display_data"
        }
      ],
      "source": [
        "def gradientDescent(X,y,theta,eta,Lambda,tolerance):\n",
        "    \"\"\"\n",
        "    Take in numpy array X, y and theta and update theta by taking num_iters gradient steps\n",
        "    with learning rate of eta\n",
        "    \n",
        "    return theta and the list of the loss of theta during each iteration\n",
        "    \"\"\"\n",
        "    Loss_history =[]\n",
        "    curr_tolerance = tolerance + 1\n",
        "    num_iters = 0\n",
        "    while curr_tolerance > tolerance and num_iters < 400: \n",
        "        loss, grad = lossFunction(theta, X, y, Lambda)\n",
        "        Loss_history.append(loss)\n",
        "        if len(Loss_history) > 1:\n",
        "            curr_tolerance = abs(loss - Loss_history[-2])\n",
        "        theta -= eta * grad\n",
        "        num_iters += 1\n",
        "    \n",
        "    print(num_iters)\n",
        "\n",
        "    return theta, Loss_history\n",
        "\n",
        "Eta = 0.01\n",
        "Tolerance = 1e-6\n",
        "\n",
        "theta, Loss_history = gradientDescent(X_train,y_train,initial_theta,Eta,Lambda,Tolerance)\n",
        "print(\"The regularized theta using ridge regression:\\n\",theta)\n",
        "\n",
        "plt.plot(Loss_history)\n",
        "plt.xlabel(\"Iteration\")\n",
        "plt.ylabel(\"$Loss(\\Theta)$\")\n",
        "plt.title(\"Loss function using Gradient Descent\")\n"
      ]
    },
    {
      "cell_type": "markdown",
      "id": "wwWnkqDVeD9n",
      "metadata": {
        "id": "wwWnkqDVeD9n"
      },
      "source": [
        "### Test module (5pt)\n",
        "\n",
        "We still need a method to evaluate the model constructed. Here, we plot the predicted values on the test data, together with the training points.\n",
        "\n",
        "Let's take a look at the final results.\n"
      ]
    },
    {
      "cell_type": "code",
      "execution_count": 446,
      "id": "YfSEpgt7eMsE",
      "metadata": {
        "id": "YfSEpgt7eMsE"
      },
      "outputs": [
        {
          "data": {
            "image/png": "[encoded data removed]",
            "text/plain": [
              "<Figure size 432x288 with 1 Axes>"
            ]
          },
          "metadata": {
            "needs_background": "light"
          },
          "output_type": "display_data"
        }
      ],
      "source": [
        "# Plot predicted function\n",
        "fig = plt.subplot(111)\n",
        "plot_opts = {'x_label': '$x$', 'y_label': '$y$', 'title': 'Ridge Regression', 'legend': True,\n",
        "                 'y_lim': [np.min(y)-0.5, np.max(y)+0.5]}\n",
        "\n",
        "plot_data(X_train[:,0], y_train, fig=fig, options=plot_opts)\n",
        "plot_fit(X_test, theta, fig=fig, options=plot_opts)\n"
      ]
    },
    {
      "cell_type": "markdown",
      "id": "WtqtDFrS1w6Y",
      "metadata": {
        "id": "WtqtDFrS1w6Y"
      },
      "source": [
        "## Task 1B: Real Dataset: House Value Prediction\n",
        "\n",
        "We will use the [California housing dataset](https://scikit-learn.org/stable/modules/generated/sklearn.datasets.fetch_california_housing.html) from the scikit-learn package. The task is to predict the house values in California districts given some summary stats about them based on the 1990 census data.\n",
        "\n",
        "The dataset has 8 features: longitudes, latitudes, housing median age, total rooms, total bedrooms, population, households, median income, and median house value. The target variable is the median house value for California districts, expressed in hundreds of thousands of dollars ($\\$100,000$). We split the dataset as 80\\% for training data and 20\\% for testing data. \n",
        "\n",
        "The following script loads the dataset (using pandas dataframe):"
      ]
    },
    {
      "cell_type": "code",
      "execution_count": 447,
      "id": "WxDckRfM4Ac_",
      "metadata": {
        "id": "WxDckRfM4Ac_"
      },
      "outputs": [],
      "source": [
        "# python\n",
        "import numpy as np\n",
        "import matplotlib.pyplot as plt\n",
        "from sklearn.datasets import fetch_california_housing\n",
        "import pandas as pd\n",
        "\n",
        "california=fetch_california_housing()\n",
        "california_df=pd.DataFrame(california.data,columns=california.feature_names)\n",
        "california_df['Price']=california.target\n",
        "california_df \n",
        "\n",
        "newX=california_df.drop('Price',axis=1)\n",
        "newY=california_df['Price']\n",
        "\n",
        "newX = StandardScaler().fit_transform(newX)"
      ]
    },
    {
      "cell_type": "markdown",
      "id": "OdD-ghQfqpN-",
      "metadata": {
        "id": "OdD-ghQfqpN-"
      },
      "source": [
        "\n",
        "Following the script below, you will be able to generate the training and test data."
      ]
    },
    {
      "cell_type": "code",
      "execution_count": 448,
      "id": "374bab52",
      "metadata": {
        "id": "374bab52"
      },
      "outputs": [],
      "source": [
        "N_train = len(newX) * .8\n",
        "\n",
        "np.random.seed(150)\n",
        "msk = np.random.rand(len(newX)) < 0.8\n",
        "\n",
        "X_train, y_train = newX[msk], newY[msk]\n",
        "y_train = y_train.tolist()\n",
        "X_test, y_test = newX[~msk], newY[~msk]\n",
        "y_test = y_test.tolist()"
      ]
    },
    {
      "cell_type": "markdown",
      "id": "7CCr2O23sHNq",
      "metadata": {
        "id": "7CCr2O23sHNq"
      },
      "source": [
        "### Training and evaluation (25pt)\n",
        "\n",
        "Write a function to fit the Ridge regression on the training data and calculate the MSE on the training set. Choosing $\\lambda$ from $\\{10^{-10}, 10^{-6}, 10^{-4}, 10^{-2}, 10^{-1}, 1, 10, 20, 50, 100\\}$, compute the estimate $\\hat{\\mathbf{y}}$ for different values $\\lambda$, and plot the test MSE as a function of $\\lambda$. \n",
        "\n",
        "\n",
        "❗**Note**: You should write your own model fitting and prediction (following the ones you construct in Task 1A). You may call your customized function `lossFunction` and `gradientDescent`. Do not use `sklearn.linear_model` module (i.e. for model fitting and making predictions)."
      ]
    },
    {
      "cell_type": "code",
      "execution_count": 449,
      "id": "54cdd721",
      "metadata": {
        "id": "54cdd721"
      },
      "outputs": [
        {
          "name": "stdout",
          "output_type": "stream",
          "text": [
            "27\n"
          ]
        },
        {
          "name": "stderr",
          "output_type": "stream",
          "text": [
            "/var/folders/ds/zb_p84s57dl5dvdn322z_sd80000gn/T/ipykernel_61508/2492296050.py:20: VisibleDeprecationWarning: Creating an ndarray from ragged nested sequences (which is a list-or-tuple of lists-or-tuples-or ndarrays with different lengths or shapes) is deprecated. If you meant to do this, you must specify 'dtype=object' when creating the ndarray.\n",
            "  result_array = np.array ( result_list )\n"
          ]
        },
        {
          "ename": "KeyboardInterrupt",
          "evalue": "",
          "output_type": "error",
          "traceback": [
            "\u001b[0;31m---------------------------------------------------------------------------\u001b[0m",
            "\u001b[0;31mKeyboardInterrupt\u001b[0m                         Traceback (most recent call last)",
            "Input \u001b[0;32mIn [449]\u001b[0m, in \u001b[0;36m<cell line: 17>\u001b[0;34m()\u001b[0m\n\u001b[1;32m     16\u001b[0m \u001b[38;5;66;03m# compute test MSE\u001b[39;00m\n\u001b[1;32m     17\u001b[0m \u001b[38;5;28;01mfor\u001b[39;00m weight \u001b[38;5;129;01min\u001b[39;00m weight_list:\n\u001b[0;32m---> 18\u001b[0m     test_mse \u001b[38;5;241m=\u001b[39m \u001b[43mtrain_and_eval\u001b[49m\u001b[43m(\u001b[49m\u001b[43m \u001b[49m\u001b[43mX_train\u001b[49m\u001b[43m \u001b[49m\u001b[43m,\u001b[49m\u001b[43m \u001b[49m\u001b[43my_train\u001b[49m\u001b[43m \u001b[49m\u001b[43m,\u001b[49m\u001b[43m \u001b[49m\u001b[43mX_test\u001b[49m\u001b[43m \u001b[49m\u001b[43m,\u001b[49m\u001b[43m \u001b[49m\u001b[43my_test\u001b[49m\u001b[43m \u001b[49m\u001b[43m,\u001b[49m\u001b[43m \u001b[49m\u001b[43mweight\u001b[49m\u001b[43m \u001b[49m\u001b[43m)\u001b[49m\n\u001b[1;32m     19\u001b[0m     result_list\u001b[38;5;241m.\u001b[39mappend ([ test_mse , weight ])\n\u001b[1;32m     20\u001b[0m     result_array \u001b[38;5;241m=\u001b[39m np\u001b[38;5;241m.\u001b[39marray ( result_list )\n",
            "Input \u001b[0;32mIn [449]\u001b[0m, in \u001b[0;36mtrain_and_eval\u001b[0;34m(X_train, y_train, X_eval, y_eval, lambda_)\u001b[0m\n\u001b[1;32m      4\u001b[0m initial_theta \u001b[38;5;241m=\u001b[39m np\u001b[38;5;241m.\u001b[39mzeros((X_train\u001b[38;5;241m.\u001b[39mshape[\u001b[38;5;241m1\u001b[39m], \u001b[38;5;241m1\u001b[39m))\n\u001b[1;32m      5\u001b[0m mse \u001b[38;5;241m=\u001b[39m \u001b[38;5;241m0\u001b[39m\n\u001b[0;32m----> 7\u001b[0m theta, _ \u001b[38;5;241m=\u001b[39m \u001b[43mgradientDescent\u001b[49m\u001b[43m(\u001b[49m\u001b[43mX_train\u001b[49m\u001b[43m,\u001b[49m\u001b[43m \u001b[49m\u001b[43my_train\u001b[49m\u001b[43m,\u001b[49m\u001b[43m \u001b[49m\u001b[43minitial_theta\u001b[49m\u001b[43m,\u001b[49m\u001b[43m \u001b[49m\u001b[43meta\u001b[49m\u001b[43m,\u001b[49m\u001b[43m \u001b[49m\u001b[43mlambda_\u001b[49m\u001b[43m,\u001b[49m\u001b[43m \u001b[49m\u001b[43mtolerance\u001b[49m\u001b[43m)\u001b[49m\n\u001b[1;32m      8\u001b[0m mse, _ \u001b[38;5;241m=\u001b[39m lossFunction(theta, X_eval, y_eval, lambda_)\n\u001b[1;32m     10\u001b[0m \u001b[38;5;28;01mreturn\u001b[39;00m mse\n",
            "Input \u001b[0;32mIn [445]\u001b[0m, in \u001b[0;36mgradientDescent\u001b[0;34m(X, y, theta, eta, Lambda, tolerance)\u001b[0m\n\u001b[1;32m     10\u001b[0m num_iters \u001b[38;5;241m=\u001b[39m \u001b[38;5;241m0\u001b[39m\n\u001b[1;32m     11\u001b[0m \u001b[38;5;28;01mwhile\u001b[39;00m curr_tolerance \u001b[38;5;241m>\u001b[39m tolerance \u001b[38;5;129;01mand\u001b[39;00m num_iters \u001b[38;5;241m<\u001b[39m \u001b[38;5;241m400\u001b[39m: \n\u001b[0;32m---> 12\u001b[0m     loss, grad \u001b[38;5;241m=\u001b[39m \u001b[43mlossFunction\u001b[49m\u001b[43m(\u001b[49m\u001b[43mtheta\u001b[49m\u001b[43m,\u001b[49m\u001b[43m \u001b[49m\u001b[43mX\u001b[49m\u001b[43m,\u001b[49m\u001b[43m \u001b[49m\u001b[43my\u001b[49m\u001b[43m,\u001b[49m\u001b[43m \u001b[49m\u001b[43mLambda\u001b[49m\u001b[43m)\u001b[49m\n\u001b[1;32m     13\u001b[0m     Loss_history\u001b[38;5;241m.\u001b[39mappend(loss)\n\u001b[1;32m     14\u001b[0m     \u001b[38;5;28;01mif\u001b[39;00m \u001b[38;5;28mlen\u001b[39m(Loss_history) \u001b[38;5;241m>\u001b[39m \u001b[38;5;241m1\u001b[39m:\n",
            "Input \u001b[0;32mIn [444]\u001b[0m, in \u001b[0;36mlossFunction\u001b[0;34m(theta, X, y, Lambda)\u001b[0m\n\u001b[1;32m     11\u001b[0m \u001b[38;5;28;01mfor\u001b[39;00m i \u001b[38;5;129;01min\u001b[39;00m \u001b[38;5;28mrange\u001b[39m(X\u001b[38;5;241m.\u001b[39mshape[\u001b[38;5;241m0\u001b[39m]):\n\u001b[1;32m     12\u001b[0m     \u001b[38;5;66;03m# regLoss += np.linalg.inv((X.T@X + Lambda * np.identity(X.shape[1]))) @ X.T @ y\u001b[39;00m\n\u001b[1;32m     13\u001b[0m     regLoss \u001b[38;5;241m+\u001b[39m\u001b[38;5;241m=\u001b[39m (y[i]\u001b[38;5;241m-\u001b[39m(theta\u001b[38;5;241m.\u001b[39mT \u001b[38;5;241m@\u001b[39m X[i]))\u001b[38;5;241m*\u001b[39m\u001b[38;5;241m*\u001b[39m\u001b[38;5;241m2\u001b[39m\n\u001b[0;32m---> 14\u001b[0m     gradient \u001b[38;5;241m=\u001b[39m (\u001b[43m(\u001b[49m\u001b[43my\u001b[49m\u001b[43m[\u001b[49m\u001b[43mi\u001b[49m\u001b[43m]\u001b[49m\u001b[38;5;241;43m-\u001b[39;49m\u001b[43m(\u001b[49m\u001b[43mtheta\u001b[49m\u001b[38;5;241;43m.\u001b[39;49m\u001b[43mT\u001b[49m\u001b[43m \u001b[49m\u001b[38;5;241;43m@\u001b[39;49m\u001b[43m \u001b[49m\u001b[43mX\u001b[49m\u001b[43m[\u001b[49m\u001b[43mi\u001b[49m\u001b[43m]\u001b[49m\u001b[43m)\u001b[49m\u001b[43m)\u001b[49m\u001b[43m \u001b[49m\u001b[38;5;241;43m*\u001b[39;49m\u001b[43m \u001b[49m\u001b[43mX\u001b[49m\u001b[43m[\u001b[49m\u001b[43mi\u001b[49m\u001b[43m]\u001b[49m)\n\u001b[1;32m     15\u001b[0m     \u001b[38;5;28;01mfor\u001b[39;00m j \u001b[38;5;129;01min\u001b[39;00m \u001b[38;5;28mrange\u001b[39m(gradient\u001b[38;5;241m.\u001b[39mshape[\u001b[38;5;241m0\u001b[39m]):\n\u001b[1;32m     16\u001b[0m         grad[j][\u001b[38;5;241m0\u001b[39m] \u001b[38;5;241m+\u001b[39m\u001b[38;5;241m=\u001b[39m gradient[j]\n",
            "\u001b[0;31mKeyboardInterrupt\u001b[0m: "
          ]
        }
      ],
      "source": [
        "def train_and_eval( X_train , y_train , X_eval , y_eval , lambda_ ):\n",
        "  eta = 0.01\n",
        "  tolerance = 1e-2\n",
        "  initial_theta = np.zeros((X_train.shape[1], 1))\n",
        "  mse = 0\n",
        "  \n",
        "  theta, _ = gradientDescent(X_train, y_train, initial_theta, eta, lambda_, tolerance)\n",
        "  mse, _ = lossFunction(theta, X_eval, y_eval, lambda_)\n",
        "  \n",
        "  return mse\n",
        "\n",
        "\n",
        "weight_list = [1e-10, 1e-6, 1e-4, 0.01, 0.1, 1, 10, 20, 50, 100]\n",
        "result_list = []\n",
        "\n",
        "# compute test MSE\n",
        "for weight in weight_list:\n",
        "    test_mse = train_and_eval( X_train , y_train , X_test , y_test , weight )\n",
        "    result_list.append ([ test_mse , weight ])\n",
        "    result_array = np.array ( result_list )\n",
        "\n",
        "plt.figure()\n",
        "plt.plot( result_array [: , -1] , result_array [: ,0] , label = 'test mse')\n",
        "plt.xlabel('lambda')\n",
        "plt.ylabel('test mse')\n",
        "plt.yscale('log')\n",
        "plt.legend()\n",
        "plt.show()"
      ]
    },
    {
      "cell_type": "markdown",
      "id": "__Sith5GtlSC",
      "metadata": {
        "id": "__Sith5GtlSC"
      },
      "source": [
        "### Model selection via k-fold cross validation (25pt)\n",
        "\n",
        "Implement *10-fold cross validation* on the training set to select $\\lambda$. \n",
        "\n",
        "Plot and compare the MSE on the hold-out set with the true MSE which is computed on the test set. And see how we get to finding the ``best'' $\\lambda$.\n",
        "\n",
        "❗**Note:** For this subproblem, you should write your own function for cross validation; in particular, you should **not** call the existing `sklearn.model_selection` module."
      ]
    },
    {
      "cell_type": "code",
      "execution_count": null,
      "id": "809941e2",
      "metadata": {},
      "outputs": [
        {
          "name": "stdout",
          "output_type": "stream",
          "text": [
            "cross validation with lambda:  1e-10\n",
            "2\n",
            "4\n",
            "3\n",
            "6\n",
            "7\n",
            "9\n",
            "9\n",
            "11\n",
            "10\n",
            "9\n",
            "cross validation with lambda:  1e-06\n",
            "27\n",
            "28\n",
            "26\n",
            "27\n",
            "27\n",
            "27\n",
            "28\n",
            "28\n",
            "28\n",
            "28\n",
            "cross validation with lambda:  0.0001\n",
            "30\n",
            "30\n",
            "29\n",
            "29\n",
            "29\n",
            "29\n",
            "30\n",
            "29\n",
            "29\n",
            "30\n",
            "cross validation with lambda:  0.01\n",
            "30\n",
            "30\n",
            "29\n",
            "29\n",
            "29\n",
            "29\n",
            "30\n",
            "29\n",
            "29\n",
            "30\n",
            "cross validation with lambda:  0.1\n",
            "30\n",
            "31\n",
            "30\n",
            "30\n",
            "29\n",
            "30\n",
            "31\n",
            "30\n",
            "29\n",
            "31\n",
            "cross validation with lambda:  1\n",
            "30\n",
            "31\n",
            "30\n",
            "30\n",
            "30\n",
            "30\n",
            "31\n",
            "30\n",
            "29\n",
            "30\n",
            "cross validation with lambda:  10\n",
            "14\n",
            "14\n",
            "14\n",
            "14\n",
            "14\n",
            "14\n",
            "14\n",
            "14\n",
            "14\n",
            "14\n",
            "cross validation with lambda:  20\n",
            "9\n",
            "9\n",
            "9\n",
            "9\n",
            "8\n",
            "9\n",
            "9\n",
            "9\n",
            "8\n",
            "9\n",
            "cross validation with lambda:  50\n",
            "4\n",
            "4\n",
            "4\n",
            "4\n",
            "4\n",
            "4\n",
            "4\n",
            "4\n",
            "4\n",
            "4\n",
            "cross validation with lambda:  100\n",
            "400\n",
            "400\n",
            "400\n",
            "400\n",
            "400\n",
            "400\n",
            "400\n",
            "400\n",
            "400\n",
            "400\n"
          ]
        },
        {
          "data": {
            "image/png": "[encoded data removed]",
            "text/plain": [
              "<Figure size 432x288 with 1 Axes>"
            ]
          },
          "metadata": {
            "needs_background": "light"
          },
          "output_type": "display_data"
        },
        {
          "name": "stdout",
          "output_type": "stream",
          "text": [
            "Best lambda:  0.1\n"
          ]
        }
      ],
      "source": [
        "import random\n",
        "def cross_validation(X_train, y_train, lambda_, k=10):\n",
        "    \"\"\"\n",
        "    Perform k-fold cross validation on X_train and y_train.\n",
        "    \"\"\"\n",
        "    # add your code to perform k-fold cross validation\n",
        "    mse = 0 \n",
        "    random.shuffle(X_train)\n",
        "    partition = X_train.shape[0] // k\n",
        "    for i in range(k):\n",
        "        if i == 0:\n",
        "            xTrain = X_train[partition*(i+1):]\n",
        "            yTrain = y_train[partition*(i+1):]\n",
        "            xEval = X_train[0:partition*(i+1)]\n",
        "            yEval = y_train[0:partition*(i+1)]\n",
        "        elif i == k-1:\n",
        "            xTrain = X_train[:partition*i]\n",
        "            yTrain = y_train[:partition*i]\n",
        "            xEval = X_train[partition*i:]\n",
        "            yEval = y_train[partition*i:]\n",
        "        else:\n",
        "            xTrain = np.concatenate((X_train[0:partition*i], X_train[partition*(i+1):]), axis=0)\n",
        "            yTrain = np.concatenate((y_train[0:partition*i], y_train[partition*(i+1):]), axis=0)\n",
        "            xEval =  X_train[partition*i:partition*(i+1)]\n",
        "            yEval =  y_train[partition*i:partition*(i+1)]\n",
        "        mse += train_and_eval(xTrain, yTrain, xEval, yEval, lambda_)\n",
        "    return mse / k \n",
        "\n",
        "\n",
        "# List of lambdas to try\n",
        "weight_list = [1e-10, 1e-6, 1e-4, 0.01, 0.1, 1, 10, 20, 50, 100]\n",
        "\n",
        "best_lambda = None\n",
        "best_mse = np.inf\n",
        "mses = [] \n",
        "\n",
        "# Find the best lambda\n",
        "for lambda_ in weight_list:\n",
        "    print(\"cross validation with lambda: \", lambda_)\n",
        "    mse = cross_validation(X_train, y_train, lambda_)\n",
        "    mses.append(mse)\n",
        "    if mse < best_mse:\n",
        "        best_mse = mse\n",
        "        best_lambda = lambda_\n",
        "\n",
        "\n",
        "plt.figure()\n",
        "plt.plot( weight_list[:-1] , mses[:-1] , label = 'K-Folds MSE by Lambda')\n",
        "plt.xlabel('Lambda')\n",
        "plt.ylabel('K-folds Test MSE')\n",
        "plt.yscale('log')\n",
        "plt.xscale('log')\n",
        "plt.legend()\n",
        "plt.show()\n",
        "\n",
        "print(\"Best lambda: \", best_lambda)\n"
      ]
    },
    {
      "cell_type": "markdown",
      "id": "134d30d0",
      "metadata": {},
      "source": [
        "# Bonus (10pt): Implementing LASSO Regression\n",
        "\n",
        "In this bonus question, you will implement LASSO regression for [California housing dataset](https://scikit-learn.org/stable/modules/generated/sklearn.datasets.fetch_california_housing.html).\n",
        "\n",
        "Following the previous notation, we consider the Lasso regression risk function, defined as \n",
        "$$ R({\\mathbf{w}}) = \\mathbb{E}[(y-{\\mathbf{w}}^\\top x)^2)] +  \\lambda ||\\mathbf{w}||_1$$\n",
        "\n",
        "where the expectation is taken over the data generating the distribution of points. As the whole data generating distribution is not known, the expectation is approximated by samples from the **training** set. \n",
        "\n",
        "The risk is approximated by the *empirical risk* as:\n",
        "\n",
        "$$\\hat{R}_{\\text{lasso}}(\\mathbf{w}) = \\frac{1}{n} \\sum_{i=1}^n \\left(y_i - \\mathbf{w}^\\top \\mathbf{x}_i\\right)^2 + \\lambda ||\\mathbf{w}||_1$$\n",
        "\n",
        "In the following, construct a customized function which returns the empirical risk and its gradient at parameter $\\theta$:\n",
        "\n",
        "❗**Note**: You should write your own model fitting and prediction (following the ones you construct in Task 1A). You may call your customized function `lossFunctionLASSO`, `gradientDescent` and `train_and_eval`. Do not use `sklearn.linear_model` module (i.e. for model fitting and making predictions)."
      ]
    },
    {
      "cell_type": "code",
      "execution_count": 440,
      "id": "70a89f52",
      "metadata": {},
      "outputs": [
        {
          "name": "stderr",
          "output_type": "stream",
          "text": [
            "/var/folders/ds/zb_p84s57dl5dvdn322z_sd80000gn/T/ipykernel_61508/2352237616.py:33: VisibleDeprecationWarning: Creating an ndarray from ragged nested sequences (which is a list-or-tuple of lists-or-tuples-or ndarrays with different lengths or shapes) is deprecated. If you meant to do this, you must specify 'dtype=object' when creating the ndarray.\n",
            "  result_array = np.array ( result_list )\n"
          ]
        },
        {
          "data": {
            "image/png": "[encoded data removed]",
            "text/plain": [
              "<Figure size 432x288 with 1 Axes>"
            ]
          },
          "metadata": {
            "needs_background": "light"
          },
          "output_type": "display_data"
        }
      ],
      "source": [
        "# Constructing the empirical risk function for LASSO regression.\n",
        "def lossFunctionLASSO(theta, X, y ,Lambda):\n",
        "    \"\"\"\n",
        "    Take in numpy array of theta, X, and y to return the regularize loss function and gradient\n",
        "    of a LASSO regression\n",
        "    \"\"\"\n",
        "    # initialize regularized average loss (empirical risk) and its gradient\n",
        "    regLoss = 0\n",
        "    grad = np.zeros(theta.shape)\n",
        "\n",
        "    # add your code to compute the LASSO regression risk function and its gradient #\n",
        "    # \n",
        "     \n",
        "    return regLoss, grad\n",
        "\n",
        "def gradientDescent(X,y,theta,eta,Lambda,tolerance,max_iter=1000):\n",
        "    # you can reuse your code from ridge regression and modify it accordingly #\n",
        "    return theta, Loss_history\n",
        "\n",
        "def train_and_eval( X_train , y_train , X_eval , y_eval , lambda_ ):\n",
        "    # you can reuse your code from ridge regression and modify it accordingly #\n",
        "    \n",
        "    return mse\n",
        "\n",
        "\n",
        "weight_list = [1e-10, 1e-6, 1e-4, 0.01, 0.1, 1, 10, 20, 50, 100]\n",
        "result_list = []\n",
        "\n",
        "# compute test MSE\n",
        "for weight in weight_list:\n",
        "    test_mse = train_and_eval ( X_train , y_train , X_test , y_test , weight )\n",
        "    result_list.append ([ test_mse , weight ])\n",
        "    result_array = np.array ( result_list )\n",
        "\n",
        "plt.figure()\n",
        "plt.plot( result_array [: , -1] , result_array [: ,0] , label = 'test mse')\n",
        "plt.xlabel('lambda')\n",
        "plt.ylabel('test mse')\n",
        "plt.yscale('log')\n",
        "plt.legend()\n",
        "plt.show()"
      ]
    }
  ],
  "metadata": {
    "colab": {
      "provenance": [],
      "toc_visible": true
    },
    "kernelspec": {
      "display_name": "Python 3",
      "language": "python",
      "name": "python3"
    },
    "language_info": {
      "codemirror_mode": {
        "name": "ipython",
        "version": 3
      },
      "file_extension": ".py",
      "mimetype": "text/x-python",
      "name": "python",
      "nbconvert_exporter": "python",
      "pygments_lexer": "ipython3",
      "version": "3.9.5"
    },
    "vscode": {
      "interpreter": {
        "hash": "31f2aee4e71d21fbe5cf8b01ff0e069b9275f58929596ceb00d14d90e3e16cd6"
      }
    }
  },
  "nbformat": 4,
  "nbformat_minor": 5
}
